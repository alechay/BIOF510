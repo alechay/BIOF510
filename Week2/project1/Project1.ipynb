{
 "cells": [
  {
   "cell_type": "markdown",
   "metadata": {},
   "source": [
    "# Project 1: Natural Language Processing"
   ]
  },
  {
   "cell_type": "markdown",
   "metadata": {},
   "source": [
    "Learning Objectives:\n",
    "- Increase familiarity with pytorch\n",
    "- Learn how to use an LSTM model\n",
    "- Learn how to integrate Deep learning models\n",
    "- Learn how to process/handle a new type of data\n",
    "- Practice neural network optimization"
   ]
  },
  {
   "cell_type": "markdown",
   "metadata": {},
   "source": [
    "Using pytorch, You will develop a POS tagger that uses both a bi-directional LSTM and a CNN for maximum accuracy. You can use the pytorch LSTM example and the CNN tutorial as a reference point. <br>\n",
    "<br>\n",
    "Required Structural Components: a word embedding, a CNN, a bi-directional LSTM, and linear layers."
   ]
  },
  {
   "cell_type": "markdown",
   "metadata": {},
   "source": [
    "## Code adapted from:\n",
    "https://github.com/bentrevett/pytorch-pos-tagging/blob/master/1%20-%20BiLSTM%20for%20PoS%20Tagging.ipynb "
   ]
  },
  {
   "cell_type": "markdown",
   "metadata": {},
   "source": [
    "## Import packages"
   ]
  },
  {
   "cell_type": "code",
   "execution_count": 1,
   "metadata": {},
   "outputs": [],
   "source": [
    "# pytorch modules\n",
    "import torch\n",
    "import torch.nn as nn\n",
    "import torch.nn.functional as F\n",
    "import torch.optim as optim\n",
    "\n",
    "# standard DS packages\n",
    "import numpy as np\n",
    "import pandas as pd\n",
    "import matplotlib.pyplot as plt\n",
    "\n",
    "# natural language toolkit\n",
    "import nltk\n",
    "\n",
    "# use torchtext to create dataset\n",
    "from torchtext.legacy import data\n",
    "from torchtext.legacy import datasets\n",
    "\n",
    "# to calculate training time\n",
    "import time"
   ]
  },
  {
   "cell_type": "markdown",
   "metadata": {},
   "source": [
    "## Exploratory data analysis"
   ]
  },
  {
   "cell_type": "code",
   "execution_count": 2,
   "metadata": {},
   "outputs": [
    {
     "data": {
      "image/png": "[encoded data removed]",
      "text/plain": [
       "<Figure size 576x720 with 1 Axes>"
      ]
     },
     "metadata": {
      "needs_background": "light"
     },
     "output_type": "display_data"
    }
   ],
   "source": [
    "train_f = open(\"train.txt\", \"r\") # open text file\n",
    "train_words = train_f.read() # read every word\n",
    "train_tagged = [nltk.tag.str2tuple(t) for t in train_words.split()] # split each word/POS tag into a tuple using nltk\n",
    "\n",
    "# create dataframe and visualize POS tag counts\n",
    "train_df = pd.DataFrame(train_tagged, columns = ['Word', 'Tag'])\n",
    "# plot with matplotlib backend\n",
    "train_df['Tag'].value_counts().plot(\n",
    "    kind='barh', figsize=(8, 10), title='POS tags');"
   ]
  },
  {
   "cell_type": "code",
   "execution_count": 3,
   "metadata": {},
   "outputs": [
    {
     "data": {
      "image/png": "[encoded data removed]",
      "text/plain": [
       "<Figure size 432x288 with 1 Axes>"
      ]
     },
     "metadata": {
      "needs_background": "light"
     },
     "output_type": "display_data"
    }
   ],
   "source": [
    "test_f = open(\"test.txt\", \"r\") # open text file\n",
    "test_words = test_f.read().split() # read every word and split at each word\n",
    "\n",
    "# create dataframe and visualize word counts\n",
    "test_df = pd.DataFrame(test_words, columns = ['Word'])\n",
    "# plot with matplotlib backend\n",
    "test_df['Word'].value_counts()[:20].plot(\n",
    "    kind='barh', title='Test dataset 20 most common words');"
   ]
  },
  {
   "cell_type": "markdown",
   "metadata": {},
   "source": [
    "## Prepare data"
   ]
  },
  {
   "cell_type": "code",
   "execution_count": 4,
   "metadata": {},
   "outputs": [],
   "source": [
    "f = open(\"train.txt\", \"r\") # open text file\n",
    "lines = f.read().splitlines() # read line by line, each line is an item in a list\n",
    "text = [sentence.split() for sentence in lines] # split each line into list of word/POS tag, result is list of lists\n",
    "\n",
    "# split each word/POS tag into a tuple using nltk\n",
    "tagged = []\n",
    "for sentence in text:\n",
    "    words = []\n",
    "    for word in sentence:\n",
    "        tags = nltk.tag.str2tuple(word)\n",
    "        words.append(tags)\n",
    "    tagged.append(words)"
   ]
  },
  {
   "cell_type": "code",
   "execution_count": 5,
   "metadata": {},
   "outputs": [],
   "source": [
    "# the Torchtext Field specifies how the dataset is processed\n",
    "# all text will be made lowercase\n",
    "TEXT = data.Field(lower = True)\n",
    "# TorchText Fields initialize a default unknown token, <unk>, which we remove by setting unk_token = None.\n",
    "TAGS = data.Field(unk_token = None)\n",
    "\n",
    "# create fields\n",
    "fields = (('text', TEXT), ('tags', TAGS))\n",
    "\n",
    "# create a torchtext dataset, i.e. a list of Examples\n",
    "# each Example consists of a list of words in a sentence and the corresponding POS tags\n",
    "examples = []\n",
    "for sentence in tagged:\n",
    "    text = []\n",
    "    tags = []\n",
    "    for word, tag in sentence:\n",
    "        text.append(word)\n",
    "        tags.append(tag)\n",
    "    examples.append(data.Example.fromlist([text, tags], fields))\n",
    "        \n",
    "dset = data.Dataset(examples, fields)\n",
    "\n",
    "# split data into train and validation\n",
    "train_data, valid_data = dset.split(0.9)"
   ]
  },
  {
   "cell_type": "code",
   "execution_count": 6,
   "metadata": {},
   "outputs": [
    {
     "name": "stdout",
     "output_type": "stream",
     "text": [
      "35849\n",
      "3983\n"
     ]
    }
   ],
   "source": [
    "print(len(train_data))\n",
    "print(len(valid_data))"
   ]
  },
  {
   "cell_type": "markdown",
   "metadata": {},
   "source": [
    "Building vocabulary is mapping each token to an integer, similar to word_to_ix in the provided example"
   ]
  },
  {
   "cell_type": "code",
   "execution_count": 7,
   "metadata": {},
   "outputs": [],
   "source": [
    "# set the min_freq to 2 which means only tokens that appear twice in the training set \n",
    "# will be added to the vocabulary and the rest will be replaced by <unk> tokens\n",
    "MIN_FREQ = 2\n",
    "\n",
    "# use the GloVe pretrained 100 dimensional embeddings\n",
    "# unk_init is used to initialize the token embeddings which are not in the pre-trained embedding vocabulary\n",
    "# initialize them from a Normal/Gaussian distribution\n",
    "TEXT.build_vocab(train_data, \n",
    "                 min_freq = MIN_FREQ,\n",
    "                 vectors = \"glove.6B.100d\",\n",
    "                 unk_init = torch.Tensor.normal_)\n",
    "\n",
    "\n",
    "# build mapping of tags to integers\n",
    "TAGS.build_vocab(train_data)"
   ]
  },
  {
   "cell_type": "code",
   "execution_count": 8,
   "metadata": {},
   "outputs": [],
   "source": [
    "BATCH_SIZE = 1\n",
    "\n",
    "# place the batches on the GPU if there is one\n",
    "device = torch.device('cuda' if torch.cuda.is_available() else 'cpu')\n",
    "\n",
    "# data is iterated over to create batches of data to process\n",
    "# batches should be shuffled between epochs, but the train-validation split remains the same\n",
    "train_iterator, valid_iterator = data.BucketIterator.splits(\n",
    "    (train_data, valid_data), \n",
    "    batch_size = BATCH_SIZE,\n",
    "    device = device,\n",
    "    sort_key = lambda x: len(x.text), # have to provide a sorting function to the constructor of the BucketIterator\n",
    "    sort_within_batch = False)"
   ]
  },
  {
   "cell_type": "markdown",
   "metadata": {},
   "source": [
    "## Model\n",
    "* **Embedding layer:** input dimension is size of vocabulary, embedding dimension is size of embeddings. We tell it what the index of the padding token is so it does not update the padding token's embedding entry.\n",
    "* **CNN layer:** The CNN filters down the embeddings.\n",
    "* **LSTM layer:** takes word embeddings as inputs, and outputs hidden states corresponding to each word. We specifiy the LSTM as bidirectional. We use dropout regularization between layers if there is more than one layer.\n",
    "* **Linear layer:** maps from hidden state space to tag space. We double the size of the input because we are using a bi-directional LSTM.\n",
    "* **Dropout layer:** In the forward method, we apply dropout to the embeddings and the outputs of the final layer of the LSTM."
   ]
  },
  {
   "cell_type": "raw",
   "metadata": {},
   "source": [
    "class LSTMTagger(nn.Module):\n",
    "    \n",
    "    # constructor\n",
    "    def __init__(self, input_dim, embedding_dim, hidden_dim, output_dim, n_layers, dropout, pad_idx):\n",
    "        super(LSTMTagger, self).__init__()\n",
    "         \n",
    "        # embedding layer\n",
    "        self.embedding = nn.Embedding(input_dim, embedding_dim, padding_idx = pad_idx)\n",
    "        \n",
    "        # lstm layer\n",
    "        self.lstm = nn.LSTM(embedding_dim, \n",
    "                            hidden_dim, \n",
    "                            num_layers = n_layers, \n",
    "                            bidirectional = True,\n",
    "                            dropout = dropout if n_layers > 1 else 0)\n",
    "        \n",
    "        # linear layer\n",
    "        self.linear = nn.Linear(hidden_dim * 2, output_dim)\n",
    "        \n",
    "        # dropout layer\n",
    "        self.dropout = nn.Dropout(dropout)\n",
    "        \n",
    "    def forward(self, text):\n",
    "        \n",
    "        # pass text through embedding layer and apply dropout\n",
    "        embedded = self.dropout(self.embedding(text))\n",
    "        \n",
    "        # pass embeddings into LSTM and output hidden states\n",
    "        outputs, _ = self.lstm(embedded)\n",
    "        \n",
    "        # apply dropout to hidden state output and pass through linear layer\n",
    "        # to make a prediction of what the tag should be\n",
    "        predictions = self.linear(self.dropout(outputs))\n",
    "        \n",
    "        return predictions"
   ]
  },
  {
   "cell_type": "code",
   "execution_count": 10,
   "metadata": {},
   "outputs": [],
   "source": [
    "class test_model(nn.Module):\n",
    "    \n",
    "    # constructor\n",
    "    def __init__(self, input_dim, embedding_dim, hidden_dim, output_dim, n_layers, dropout, pad_idx):\n",
    "        super(test_model, self).__init__()\n",
    "        \n",
    "        # embedding layer output shape (# of tokens in sentence, batch size, embedding dimension)\n",
    "        self.embedding = nn.Embedding(input_dim, embedding_dim, padding_idx = pad_idx)\n",
    "        \n",
    "        # convolution layer - You need to know # of channels/inputs and number of kernels (outputs)\n",
    "        # output - (# of tokens in sentence, batch size, filtered embedding dimension)\n",
    "        self.convolution = nn.Conv1d(in_channels = BATCH_SIZE, out_channels = BATCH_SIZE, kernel_size = 3)\n",
    "        \n",
    "        # 1-D max pooling\n",
    "        # kernel_size is 2\n",
    "        self.pool = nn.MaxPool1d(2)\n",
    "        \n",
    "        # relu activation function\n",
    "        self.relu = nn.ReLU()\n",
    "        \n",
    "        # lstm layer - input_size = 23 after two convolutions (100 to 49 to 23)\n",
    "        self.lstm = nn.LSTM(23, \n",
    "                            hidden_dim, \n",
    "                            num_layers = n_layers, \n",
    "                            bidirectional = True,\n",
    "                            dropout = dropout if n_layers > 1 else 0)\n",
    "        \n",
    "        # linear layer\n",
    "        self.linear = nn.Linear(hidden_dim * 2, output_dim)\n",
    "        \n",
    "        # dropout layer\n",
    "        self.dropout = nn.Dropout(dropout)\n",
    "        \n",
    "    def forward(self, text):\n",
    "        \n",
    "        # pass text through embedding layer\n",
    "        embedded = self.embedding(text)\n",
    "        \n",
    "        # first convolution with activation and pooling\n",
    "        conv1 = self.pool(self.relu(self.convolution(embedded)))\n",
    "        \n",
    "        # second convolution with activation and pooling\n",
    "        conv2 = self.pool(self.relu(self.convolution(conv1)))\n",
    "        \n",
    "        # pass embeddings into LSTM and output hidden states\n",
    "        outputs, _ = self.lstm(conv2)\n",
    "        \n",
    "        # apply dropout to hidden state output and pass through linear layer\n",
    "        # to make a prediction of what the tag should be\n",
    "        predictions = self.linear(self.dropout(outputs))\n",
    "        \n",
    "        return predictions"
   ]
  },
  {
   "cell_type": "markdown",
   "metadata": {},
   "source": [
    "Instantiate model with all the parameters"
   ]
  },
  {
   "cell_type": "code",
   "execution_count": 12,
   "metadata": {},
   "outputs": [],
   "source": [
    "INPUT_DIM = len(TEXT.vocab) # vocab size\n",
    "EMBEDDING_DIM = 100 # same as the GloVe pretrained embeddings\n",
    "HIDDEN_DIM = 128 # arbitrary, can be changed\n",
    "OUTPUT_DIM = len(TAGS.vocab) # tag size\n",
    "N_LAYERS = 2 # number of layers in lstm\n",
    "DROPOUT = 0.25 # arbitrary, can be changed\n",
    "# get the index of the pad token created when we built the vocab\n",
    "PAD_IDX = TEXT.vocab.stoi[TEXT.pad_token]\n",
    "\n",
    "# model = LSTMTagger(INPUT_DIM, EMBEDDING_DIM, HIDDEN_DIM, OUTPUT_DIM, N_LAYERS, DROPOUT, PAD_IDX)\n",
    "model = test_model(INPUT_DIM, EMBEDDING_DIM, HIDDEN_DIM, OUTPUT_DIM, N_LAYERS, DROPOUT, PAD_IDX)"
   ]
  },
  {
   "cell_type": "code",
   "execution_count": 13,
   "metadata": {},
   "outputs": [],
   "source": [
    "# initialize weights of parameters from a normal distribution\n",
    "def init_weights(m):\n",
    "    for name, param in m.named_parameters():\n",
    "        nn.init.normal_(param.data, mean = 0, std = 0.1)\n",
    "\n",
    "model.apply(init_weights) # apply to model\n",
    "\n",
    "# initialize our model's embedding layer with the pre-trained GloVe embedding values we loaded earlier\n",
    "pretrained_embeddings = TEXT.vocab.vectors\n",
    "model.embedding.weight.data.copy_(pretrained_embeddings) # apply to model\n",
    "\n",
    "# initialize the embedding of the pad token to all zeros\n",
    "# the embedding should always output a tensor full of zeros when a pad token is input\n",
    "model.embedding.weight.data[PAD_IDX] = torch.zeros(EMBEDDING_DIM)"
   ]
  },
  {
   "cell_type": "markdown",
   "metadata": {},
   "source": [
    "## Train/ Validation"
   ]
  },
  {
   "cell_type": "code",
   "execution_count": 14,
   "metadata": {},
   "outputs": [],
   "source": [
    "# define optimizer: Adam with default learning rate\n",
    "optimizer = optim.Adam(model.parameters())\n",
    "\n",
    "# define loss function: cross-entropy loss\n",
    "# ignore index because we don't want to calculate the loss when the target is a <pad> token\n",
    "TAG_PAD_IDX = TAGS.vocab.stoi[TAGS.pad_token]\n",
    "loss_function = nn.CrossEntropyLoss(ignore_index = TAG_PAD_IDX)\n",
    "\n",
    "# place our model and loss function on our GPU, if we have one\n",
    "model = model.to(device)\n",
    "loss_function = loss_function.to(device)"
   ]
  },
  {
   "cell_type": "code",
   "execution_count": 15,
   "metadata": {},
   "outputs": [],
   "source": [
    "# function to calculate accuracy after each epoch\n",
    "\n",
    "def categorical_accuracy(preds, y, tag_pad_idx):\n",
    "    # find the index where the probability is the greatest, that is your prediction\n",
    "    max_preds = preds.argmax(dim = 1, keepdim = True)\n",
    "    # get nonzero elements that aren't pad tokens\n",
    "    non_pad_elements = (y != tag_pad_idx).nonzero()\n",
    "    # .eq computes element-wise equality between our predictions and actual tags\n",
    "    correct = max_preds[non_pad_elements].squeeze(1).eq(y[non_pad_elements])\n",
    "    # take the number of correct predictions and divide by the number of actual tags\n",
    "    return correct.sum() / torch.FloatTensor([y[non_pad_elements].shape[0]])"
   ]
  },
  {
   "cell_type": "code",
   "execution_count": 16,
   "metadata": {},
   "outputs": [],
   "source": [
    "def train(model, iterator, optimizer, loss_function, tag_pad_idx):\n",
    "    \n",
    "    epoch_loss = 0\n",
    "    epoch_acc = 0\n",
    "    \n",
    "    # train mode\n",
    "    model.train()\n",
    "    \n",
    "    for batch in iterator:\n",
    "        \n",
    "        # get text and tags for batch\n",
    "        text = batch.text\n",
    "        tags = batch.tags\n",
    "        \n",
    "        # Remember that Pytorch accumulates gradients.\n",
    "        # We need to clear them out before each instance\n",
    "        optimizer.zero_grad()\n",
    "        \n",
    "        # get predictions from model\n",
    "        predictions = model(text)\n",
    "        \n",
    "        # get predictions and actual tags from objects\n",
    "        predictions = predictions.view(-1, predictions.shape[-1])\n",
    "        tags = tags.view(-1)\n",
    "        \n",
    "        # apply loss function to predictions vs actual\n",
    "        loss = loss_function(predictions, tags)\n",
    "        # use accuracy function\n",
    "        acc = categorical_accuracy(predictions, tags, tag_pad_idx)\n",
    "        \n",
    "        # Compute the loss, gradients, and update the parameters by\n",
    "        # calling optimizer.step()       \n",
    "        loss.backward()\n",
    "        optimizer.step()\n",
    "        \n",
    "        # add loss and accuracy for epoch to list\n",
    "        epoch_loss += loss.item()\n",
    "        epoch_acc += acc.item()\n",
    "        \n",
    "    return epoch_loss / len(iterator), epoch_acc / len(iterator)"
   ]
  },
  {
   "cell_type": "code",
   "execution_count": 17,
   "metadata": {},
   "outputs": [],
   "source": [
    "def evaluate(model, iterator, loss_function, tag_pad_idx):\n",
    "    \n",
    "    epoch_loss = 0\n",
    "    epoch_acc = 0\n",
    "    \n",
    "    # model.eval() is used to put the model in evaluation mode, \n",
    "    # so dropout/batch-norm/etc. are turned off\n",
    "    model.eval()\n",
    "    \n",
    "    with torch.no_grad():\n",
    "    \n",
    "        for batch in iterator:\n",
    "            \n",
    "            # get text and tags for batch\n",
    "            text = batch.text\n",
    "            tags = batch.tags\n",
    "            \n",
    "            # get predictions from model \n",
    "            predictions = model(text)\n",
    "            \n",
    "            # get predictions and actual tags from objects\n",
    "            predictions = predictions.view(-1, predictions.shape[-1])\n",
    "            tags = tags.view(-1)\n",
    "            \n",
    "            # apply loss function to predictions vs actual\n",
    "            loss = loss_function(predictions, tags)\n",
    "            # use accuracy function\n",
    "            acc = categorical_accuracy(predictions, tags, tag_pad_idx)\n",
    "\n",
    "            # add loss and accuracy for epoch to list\n",
    "            epoch_loss += loss.item()\n",
    "            epoch_acc += acc.item()\n",
    "        \n",
    "    return epoch_loss / len(iterator), epoch_acc / len(iterator)"
   ]
  },
  {
   "cell_type": "code",
   "execution_count": 18,
   "metadata": {},
   "outputs": [],
   "source": [
    "# function to get total epoch time\n",
    "# subtracts start time from end time and converts into minutes / seconds\n",
    "\n",
    "def epoch_time(start_time, end_time):\n",
    "    elapsed_time = end_time - start_time\n",
    "    elapsed_mins = int(elapsed_time / 60)\n",
    "    elapsed_secs = int(elapsed_time - (elapsed_mins * 60))\n",
    "    return elapsed_mins, elapsed_secs"
   ]
  },
  {
   "cell_type": "markdown",
   "metadata": {},
   "source": [
    "### Takes about 1.5 hours to train"
   ]
  },
  {
   "cell_type": "code",
   "execution_count": 19,
   "metadata": {},
   "outputs": [
    {
     "name": "stdout",
     "output_type": "stream",
     "text": [
      "Epoch: 01 | Epoch Time: 18m 32s\n",
      "\tTrain Loss: 0.323 | Train Acc: 90.22%\n",
      "\t Val. Loss: 0.173 |  Val. Acc: 94.42%\n",
      "Epoch: 02 | Epoch Time: 18m 39s\n",
      "\tTrain Loss: 0.160 | Train Acc: 94.99%\n",
      "\t Val. Loss: 0.154 |  Val. Acc: 95.01%\n",
      "Epoch: 03 | Epoch Time: 18m 43s\n",
      "\tTrain Loss: 0.138 | Train Acc: 95.63%\n",
      "\t Val. Loss: 0.144 |  Val. Acc: 95.36%\n",
      "Epoch: 04 | Epoch Time: 18m 46s\n",
      "\tTrain Loss: 0.126 | Train Acc: 95.94%\n",
      "\t Val. Loss: 0.142 |  Val. Acc: 95.45%\n",
      "Epoch: 05 | Epoch Time: 18m 41s\n",
      "\tTrain Loss: 0.118 | Train Acc: 96.19%\n",
      "\t Val. Loss: 0.140 |  Val. Acc: 95.53%\n"
     ]
    }
   ],
   "source": [
    "N_EPOCHS = 5\n",
    "\n",
    "# float('inf') is used for setting a variable with an infinitely large value\n",
    "best_valid_loss = float('inf')\n",
    "\n",
    "for epoch in range(N_EPOCHS):\n",
    "\n",
    "    # get time at beginning of epoch\n",
    "    start_time = time.time()\n",
    "    \n",
    "    # get loss and accuracy for train and validation\n",
    "    train_loss, train_acc = train(model, train_iterator, optimizer, loss_function, TAG_PAD_IDX)\n",
    "    valid_loss, valid_acc = evaluate(model, valid_iterator, loss_function, TAG_PAD_IDX)\n",
    "    \n",
    "    # get time at end of epoch\n",
    "    end_time = time.time()\n",
    "\n",
    "    # subtract start time from end time to get total epoch time\n",
    "    epoch_mins, epoch_secs = epoch_time(start_time, end_time)\n",
    "    \n",
    "    # save only the best model (based on validation loss)\n",
    "    if valid_loss < best_valid_loss:\n",
    "        best_valid_loss = valid_loss\n",
    "        torch.save(model.state_dict(), 'lstm_model.pt')\n",
    "    \n",
    "    # print output for epoch\n",
    "    print(f'Epoch: {epoch+1:02} | Epoch Time: {epoch_mins}m {epoch_secs}s')\n",
    "    print(f'\\tTrain Loss: {train_loss:.3f} | Train Acc: {train_acc*100:.2f}%')\n",
    "    print(f'\\t Val. Loss: {valid_loss:.3f} |  Val. Acc: {valid_acc*100:.2f}%')"
   ]
  },
  {
   "cell_type": "markdown",
   "metadata": {},
   "source": [
    "## Test"
   ]
  },
  {
   "cell_type": "code",
   "execution_count": 20,
   "metadata": {},
   "outputs": [],
   "source": [
    "# function to tag sentence in test data\n",
    "\n",
    "def tag_sentence(model, device, sentence, text_field, tag_field):\n",
    "    \n",
    "    # put model in eval mode\n",
    "    model.eval()\n",
    "    \n",
    "    # check if sentence is a list of words, else raise an error\n",
    "    if isinstance(sentence, list):\n",
    "        tokens = [token for token in sentence]\n",
    "    else:\n",
    "        raise TypeError(\"Only lists are allowed\")\n",
    "        \n",
    "    # make all tokens lowercase if that's what the Field specifies\n",
    "    if text_field.lower:\n",
    "        tokens = [t.lower() for t in tokens]\n",
    "        \n",
    "    # map integer value to the tokens\n",
    "    numericalized_tokens = [text_field.vocab.stoi[t] for t in tokens]\n",
    "\n",
    "    # get index of unknown token in text field\n",
    "    unk_idx = text_field.vocab.stoi[text_field.unk_token]\n",
    "    \n",
    "    # get list of unknown tokens\n",
    "    unks = [t for t, n in zip(tokens, numericalized_tokens) if n == unk_idx]\n",
    "    \n",
    "    # convert to long tensor\n",
    "    token_tensor = torch.LongTensor(numericalized_tokens)\n",
    "    \n",
    "    # Returns a new tensor with a dimension of size one inserted at the specified position.\n",
    "    # put on GPU if one is present\n",
    "    token_tensor = token_tensor.unsqueeze(-1).to(device)\n",
    "        \n",
    "    # feed the tensor into the model and make predictions on the text\n",
    "    predictions = model(token_tensor)\n",
    "    \n",
    "    # get most likely prediction for each tag\n",
    "    top_predictions = predictions.argmax(-1)\n",
    "    \n",
    "    # map the prediction to the corresponding tag\n",
    "    predicted_tags = [tag_field.vocab.itos[t.item()] for t in top_predictions]\n",
    "    \n",
    "    return tokens, predicted_tags, unks"
   ]
  },
  {
   "cell_type": "code",
   "execution_count": 21,
   "metadata": {},
   "outputs": [],
   "source": [
    "# load test data\n",
    "\n",
    "f = open(\"test.txt\", \"r\") # open text file\n",
    "lines = f.read().splitlines() # read line by line, each line is an item in a list\n",
    "test_data = [sentence.split() for sentence in lines] # split each line into list of words, result is list of lists"
   ]
  },
  {
   "cell_type": "code",
   "execution_count": 22,
   "metadata": {},
   "outputs": [],
   "source": [
    "model.load_state_dict(torch.load('lstm_model.pt')) # load model that was saved earlier\n",
    "# device specified earlier\n",
    "# text_field is TEXT\n",
    "# tag_field is TAGS\n",
    "\n",
    "# return tags for each word in test_data\n",
    "test_tags = []\n",
    "for sentence in test_data:\n",
    "    tokens, predicted_tags, unks = tag_sentence(model, device, sentence, TEXT, TAGS)\n",
    "    test_tags.append(predicted_tags)"
   ]
  },
  {
   "cell_type": "code",
   "execution_count": 23,
   "metadata": {},
   "outputs": [
    {
     "name": "stdout",
     "output_type": "stream",
     "text": [
      "Pred. Tag\tToken\n",
      "\n",
      "``\t\t``\n",
      "DT\t\tThe\n",
      "NN\t\trecord\n",
      "IN\t\tof\n",
      "NNS\t\tcompanies\n",
      "WDT\t\tthat\n",
      "VBP\t\thave\n",
      "JJ\t\tdiversified\n",
      "VBZ\t\tis\n",
      "RB\t\tn't\n",
      "DT\t\tall\n",
      "DT\t\tthat\n",
      "JJ\t\timpressive\n",
      ",\t\t,\n",
      "''\t\t''\n",
      "PRP\t\the\n",
      "VBZ\t\tsays\n",
      ".\t\t.\n"
     ]
    }
   ],
   "source": [
    "# load example\n",
    "\n",
    "EXAMPLE = 35\n",
    "\n",
    "tokens = test_data[EXAMPLE]\n",
    "tags = test_tags[EXAMPLE]\n",
    "\n",
    "print(\"Pred. Tag\\tToken\\n\")\n",
    "\n",
    "for token, tag in zip(tokens, tags):\n",
    "    print(f\"{tag}\\t\\t{token}\")"
   ]
  },
  {
   "cell_type": "markdown",
   "metadata": {},
   "source": [
    "## Compare test_tags to the actual tags to get the accuracy of my model on the test dataset"
   ]
  }
 ],
 "metadata": {
  "kernelspec": {
   "display_name": "Python (biof510)",
   "language": "python",
   "name": "biof510"
  },
  "language_info": {
   "codemirror_mode": {
    "name": "ipython",
    "version": 3
   },
   "file_extension": ".py",
   "mimetype": "text/x-python",
   "name": "python",
   "nbconvert_exporter": "python",
   "pygments_lexer": "ipython3",
   "version": "3.9.2"
  }
 },
 "nbformat": 4,
 "nbformat_minor": 4
}
