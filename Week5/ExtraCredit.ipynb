{
 "cells": [
  {
   "cell_type": "code",
   "execution_count": 1,
   "metadata": {},
   "outputs": [],
   "source": [
    "import torch\n",
    "import torchvision"
   ]
  },
  {
   "cell_type": "code",
   "execution_count": 9,
   "metadata": {},
   "outputs": [
    {
     "data": {
      "text/plain": [
       "<torch._C.Generator at 0x7f888818e070>"
      ]
     },
     "execution_count": 9,
     "metadata": {},
     "output_type": "execute_result"
    }
   ],
   "source": [
    "n_epochs = 3\n",
    "batch_size_train = 64\n",
    "batch_size_test = 1000\n",
    "learning_rate = 0.01\n",
    "momentum = 0.5\n",
    "log_interval = 10\n",
    "\n",
    "random_seed = 1\n",
    "torch.backends.cudnn.enabled = False\n",
    "torch.manual_seed(random_seed)"
   ]
  },
  {
   "cell_type": "code",
   "execution_count": 2,
   "metadata": {},
   "outputs": [
    {
     "name": "stdout",
     "output_type": "stream",
     "text": [
      "Downloading http://yann.lecun.com/exdb/mnist/train-images-idx3-ubyte.gz\n",
      "Failed to download (trying next):\n",
      "HTTP Error 503: Service Unavailable\n",
      "\n",
      "Downloading https://ossci-datasets.s3.amazonaws.com/mnist/train-images-idx3-ubyte.gz\n",
      "Downloading https://ossci-datasets.s3.amazonaws.com/mnist/train-images-idx3-ubyte.gz to ./MNIST/raw/train-images-idx3-ubyte.gz\n"
     ]
    },
    {
     "data": {
      "application/vnd.jupyter.widget-view+json": {
       "model_id": "116112a8acf84e3cad454a09187aa0ab",
       "version_major": 2,
       "version_minor": 0
      },
      "text/plain": [
       "HBox(children=(HTML(value=''), FloatProgress(value=0.0, max=9912422.0), HTML(value='')))"
      ]
     },
     "metadata": {},
     "output_type": "display_data"
    },
    {
     "name": "stdout",
     "output_type": "stream",
     "text": [
      "\n",
      "Extracting ./MNIST/raw/train-images-idx3-ubyte.gz to ./MNIST/raw\n",
      "\n",
      "Downloading http://yann.lecun.com/exdb/mnist/train-labels-idx1-ubyte.gz\n",
      "Failed to download (trying next):\n",
      "HTTP Error 503: Service Unavailable\n",
      "\n",
      "Downloading https://ossci-datasets.s3.amazonaws.com/mnist/train-labels-idx1-ubyte.gz\n",
      "Downloading https://ossci-datasets.s3.amazonaws.com/mnist/train-labels-idx1-ubyte.gz to ./MNIST/raw/train-labels-idx1-ubyte.gz\n"
     ]
    },
    {
     "data": {
      "application/vnd.jupyter.widget-view+json": {
       "model_id": "39c42e3b2cee4674b88d7dd35a832bee",
       "version_major": 2,
       "version_minor": 0
      },
      "text/plain": [
       "HBox(children=(HTML(value=''), FloatProgress(value=0.0, max=28881.0), HTML(value='')))"
      ]
     },
     "metadata": {},
     "output_type": "display_data"
    },
    {
     "name": "stdout",
     "output_type": "stream",
     "text": [
      "\n",
      "Extracting ./MNIST/raw/train-labels-idx1-ubyte.gz to ./MNIST/raw\n",
      "\n",
      "Downloading http://yann.lecun.com/exdb/mnist/t10k-images-idx3-ubyte.gz\n",
      "Failed to download (trying next):\n",
      "HTTP Error 503: Service Unavailable\n",
      "\n",
      "Downloading https://ossci-datasets.s3.amazonaws.com/mnist/t10k-images-idx3-ubyte.gz\n",
      "Downloading https://ossci-datasets.s3.amazonaws.com/mnist/t10k-images-idx3-ubyte.gz to ./MNIST/raw/t10k-images-idx3-ubyte.gz\n"
     ]
    },
    {
     "data": {
      "application/vnd.jupyter.widget-view+json": {
       "model_id": "c9b23105798b4ad6860cc997f975aef6",
       "version_major": 2,
       "version_minor": 0
      },
      "text/plain": [
       "HBox(children=(HTML(value=''), FloatProgress(value=0.0, max=1648877.0), HTML(value='')))"
      ]
     },
     "metadata": {},
     "output_type": "display_data"
    },
    {
     "name": "stdout",
     "output_type": "stream",
     "text": [
      "\n",
      "Extracting ./MNIST/raw/t10k-images-idx3-ubyte.gz to ./MNIST/raw\n",
      "\n",
      "Downloading http://yann.lecun.com/exdb/mnist/t10k-labels-idx1-ubyte.gz\n",
      "Failed to download (trying next):\n",
      "HTTP Error 503: Service Unavailable\n",
      "\n",
      "Downloading https://ossci-datasets.s3.amazonaws.com/mnist/t10k-labels-idx1-ubyte.gz\n",
      "Downloading https://ossci-datasets.s3.amazonaws.com/mnist/t10k-labels-idx1-ubyte.gz to ./MNIST/raw/t10k-labels-idx1-ubyte.gz\n"
     ]
    },
    {
     "data": {
      "application/vnd.jupyter.widget-view+json": {
       "model_id": "f6c75af2d0c54202935299dae6caa5d5",
       "version_major": 2,
       "version_minor": 0
      },
      "text/plain": [
       "HBox(children=(HTML(value=''), FloatProgress(value=0.0, max=4542.0), HTML(value='')))"
      ]
     },
     "metadata": {},
     "output_type": "display_data"
    },
    {
     "name": "stdout",
     "output_type": "stream",
     "text": [
      "\n",
      "Extracting ./MNIST/raw/t10k-labels-idx1-ubyte.gz to ./MNIST/raw\n",
      "\n",
      "Processing...\n",
      "Done!\n"
     ]
    },
    {
     "name": "stderr",
     "output_type": "stream",
     "text": [
      "/Users/alechay/opt/anaconda3/envs/biof510/lib/python3.9/site-packages/torchvision/datasets/mnist.py:502: UserWarning: The given NumPy array is not writeable, and PyTorch does not support non-writeable tensors. This means you can write to the underlying (supposedly non-writeable) NumPy array using the tensor. You may want to copy the array to protect its data or make it writeable before converting it to a tensor. This type of warning will be suppressed for the rest of this program. (Triggered internally at  /Users/distiller/project/conda/conda-bld/pytorch_1616554815452/work/torch/csrc/utils/tensor_numpy.cpp:143.)\n",
      "  return torch.from_numpy(parsed.astype(m[2], copy=False)).view(*s)\n"
     ]
    }
   ],
   "source": [
    "train_loader = torch.utils.data.DataLoader(\n",
    "  torchvision.datasets.MNIST('./', train=True, download=True,\n",
    "                             transform=torchvision.transforms.Compose([\n",
    "                               torchvision.transforms.ToTensor(),\n",
    "                               torchvision.transforms.Normalize(\n",
    "                                 (0.1307,), (0.3081,))\n",
    "                             ])),\n",
    "  batch_size=batch_size_train, shuffle=True)\n",
    "\n",
    "test_loader = torch.utils.data.DataLoader(\n",
    "  torchvision.datasets.MNIST('./', train=False, download=True,\n",
    "                             transform=torchvision.transforms.Compose([\n",
    "                               torchvision.transforms.ToTensor(),\n",
    "                               torchvision.transforms.Normalize(\n",
    "                                 (0.1307,), (0.3081,))\n",
    "                             ])),\n",
    "  batch_size=batch_size_test, shuffle=True)"
   ]
  },
  {
   "cell_type": "code",
   "execution_count": 3,
   "metadata": {},
   "outputs": [],
   "source": [
    "examples = enumerate(test_loader)\n",
    "batch_idx, (example_data, example_targets) = next(examples)"
   ]
  },
  {
   "cell_type": "code",
   "execution_count": 4,
   "metadata": {},
   "outputs": [
    {
     "data": {
      "text/plain": [
       "torch.Size([1000, 1, 28, 28])"
      ]
     },
     "execution_count": 4,
     "metadata": {},
     "output_type": "execute_result"
    }
   ],
   "source": [
    "example_data.shape"
   ]
  },
  {
   "cell_type": "code",
   "execution_count": 5,
   "metadata": {},
   "outputs": [
    {
     "data": {
      "image/png": "[encoded data removed]",
      "text/plain": [
       "<Figure size 432x288 with 6 Axes>"
      ]
     },
     "execution_count": 5,
     "metadata": {},
     "output_type": "execute_result"
    },
    {
     "data": {
      "image/png": "[encoded data removed]",
      "text/plain": [
       "<Figure size 432x288 with 6 Axes>"
      ]
     },
     "metadata": {},
     "output_type": "display_data"
    }
   ],
   "source": [
    "import matplotlib.pyplot as plt\n",
    "\n",
    "fig = plt.figure()\n",
    "for i in range(6):\n",
    "    plt.subplot(2,3,i+1)\n",
    "    plt.tight_layout()\n",
    "    plt.imshow(example_data[i][0], cmap='gray', interpolation='none')\n",
    "    plt.title(\"Ground Truth: {}\".format(example_targets[i]))\n",
    "    plt.xticks([])\n",
    "    plt.yticks([])\n",
    "fig"
   ]
  },
  {
   "cell_type": "code",
   "execution_count": 6,
   "metadata": {},
   "outputs": [],
   "source": [
    "import torch.nn as nn\n",
    "import torch.nn.functional as F\n",
    "import torch.optim as optim"
   ]
  },
  {
   "cell_type": "code",
   "execution_count": 7,
   "metadata": {},
   "outputs": [],
   "source": [
    "class Net(nn.Module):\n",
    "    def __init__(self):\n",
    "        super(Net, self).__init__()\n",
    "        self.conv1 = nn.Conv2d(1, 10, kernel_size=5)\n",
    "        self.conv2 = nn.Conv2d(10, 20, kernel_size=5)\n",
    "        self.conv2_drop = nn.Dropout2d()\n",
    "        self.fc1 = nn.Linear(320, 50)\n",
    "        self.fc2 = nn.Linear(50, 10)\n",
    "\n",
    "    def forward(self, x):\n",
    "        x = F.relu(F.max_pool2d(self.conv1(x), 2))\n",
    "        x = F.relu(F.max_pool2d(self.conv2_drop(self.conv2(x)), 2))\n",
    "        x = x.view(-1, 320)\n",
    "        x = F.relu(self.fc1(x))\n",
    "        x = F.dropout(x, training=self.training)\n",
    "        x = self.fc2(x)\n",
    "        return F.log_softmax(x)"
   ]
  },
  {
   "cell_type": "code",
   "execution_count": 10,
   "metadata": {},
   "outputs": [],
   "source": [
    "network = Net()\n",
    "optimizer = optim.SGD(network.parameters(), lr=learning_rate,\n",
    "                      momentum=momentum)"
   ]
  },
  {
   "cell_type": "code",
   "execution_count": 11,
   "metadata": {},
   "outputs": [],
   "source": [
    "train_losses = []\n",
    "train_counter = []\n",
    "test_losses = []\n",
    "test_counter = [i*len(train_loader.dataset) for i in range(n_epochs + 1)]"
   ]
  },
  {
   "cell_type": "code",
   "execution_count": 18,
   "metadata": {},
   "outputs": [],
   "source": [
    "def train(epoch):\n",
    "    network.train()\n",
    "    for batch_idx, (data, target) in enumerate(train_loader):\n",
    "        optimizer.zero_grad()\n",
    "        output = network(data)\n",
    "        loss = F.nll_loss(output, target)\n",
    "        loss.backward()\n",
    "        optimizer.step()\n",
    "        if batch_idx % log_interval == 0:\n",
    "            print('Train Epoch: {} [{}/{} ({:.0f}%)]\\tLoss: {:.6f}'.format(\n",
    "                epoch, batch_idx * len(data), len(train_loader.dataset),\n",
    "                100. * batch_idx / len(train_loader), loss.item()))\n",
    "            train_losses.append(loss.item())\n",
    "            train_counter.append(\n",
    "            (batch_idx*64) + ((epoch-1)*len(train_loader.dataset)))\n",
    "            torch.save(network.state_dict(), 'results/model.pth')\n",
    "            torch.save(optimizer.state_dict(), 'results/optimizer.pth')"
   ]
  },
  {
   "cell_type": "code",
   "execution_count": 19,
   "metadata": {},
   "outputs": [],
   "source": [
    "def test():\n",
    "    network.eval()\n",
    "    test_loss = 0\n",
    "    correct = 0\n",
    "    with torch.no_grad():\n",
    "        for data, target in test_loader:\n",
    "            output = network(data)\n",
    "            test_loss += F.nll_loss(output, target, size_average=False).item()\n",
    "            pred = output.data.max(1, keepdim=True)[1]\n",
    "            correct += pred.eq(target.data.view_as(pred)).sum()\n",
    "        test_loss /= len(test_loader.dataset)\n",
    "        test_losses.append(test_loss)\n",
    "        print('\\nTest set: Avg. loss: {:.4f}, Accuracy: {}/{} ({:.0f}%)\\n'.format(\n",
    "            test_loss, correct, len(test_loader.dataset),\n",
    "            100. * correct / len(test_loader.dataset)))"
   ]
  },
  {
   "cell_type": "code",
   "execution_count": 20,
   "metadata": {},
   "outputs": [
    {
     "name": "stderr",
     "output_type": "stream",
     "text": [
      "<ipython-input-7-6c2218f37724>:17: UserWarning: Implicit dimension choice for log_softmax has been deprecated. Change the call to include dim=X as an argument.\n",
      "  return F.log_softmax(x)\n"
     ]
    },
    {
     "name": "stdout",
     "output_type": "stream",
     "text": [
      "\n",
      "Test set: Avg. loss: 2.3240, Accuracy: 1139/10000 (11%)\n",
      "\n",
      "Train Epoch: 1 [0/60000 (0%)]\tLoss: 2.324255\n",
      "Train Epoch: 1 [640/60000 (1%)]\tLoss: 2.359169\n",
      "Train Epoch: 1 [1280/60000 (2%)]\tLoss: 2.293704\n",
      "Train Epoch: 1 [1920/60000 (3%)]\tLoss: 2.263227\n",
      "Train Epoch: 1 [2560/60000 (4%)]\tLoss: 2.255989\n",
      "Train Epoch: 1 [3200/60000 (5%)]\tLoss: 2.240112\n",
      "Train Epoch: 1 [3840/60000 (6%)]\tLoss: 2.158076\n",
      "Train Epoch: 1 [4480/60000 (7%)]\tLoss: 2.189190\n",
      "Train Epoch: 1 [5120/60000 (9%)]\tLoss: 2.160552\n",
      "Train Epoch: 1 [5760/60000 (10%)]\tLoss: 2.012860\n",
      "Train Epoch: 1 [6400/60000 (11%)]\tLoss: 1.926325\n",
      "Train Epoch: 1 [7040/60000 (12%)]\tLoss: 2.031903\n",
      "Train Epoch: 1 [7680/60000 (13%)]\tLoss: 1.767807\n",
      "Train Epoch: 1 [8320/60000 (14%)]\tLoss: 1.781972\n",
      "Train Epoch: 1 [8960/60000 (15%)]\tLoss: 1.562957\n",
      "Train Epoch: 1 [9600/60000 (16%)]\tLoss: 1.638527\n",
      "Train Epoch: 1 [10240/60000 (17%)]\tLoss: 1.395123\n",
      "Train Epoch: 1 [10880/60000 (18%)]\tLoss: 1.180618\n",
      "Train Epoch: 1 [11520/60000 (19%)]\tLoss: 1.194752\n",
      "Train Epoch: 1 [12160/60000 (20%)]\tLoss: 1.402680\n",
      "Train Epoch: 1 [12800/60000 (21%)]\tLoss: 1.102949\n",
      "Train Epoch: 1 [13440/60000 (22%)]\tLoss: 1.149879\n",
      "Train Epoch: 1 [14080/60000 (23%)]\tLoss: 1.126932\n",
      "Train Epoch: 1 [14720/60000 (25%)]\tLoss: 1.085317\n",
      "Train Epoch: 1 [15360/60000 (26%)]\tLoss: 1.039249\n",
      "Train Epoch: 1 [16000/60000 (27%)]\tLoss: 1.031135\n",
      "Train Epoch: 1 [16640/60000 (28%)]\tLoss: 1.055432\n",
      "Train Epoch: 1 [17280/60000 (29%)]\tLoss: 0.988504\n",
      "Train Epoch: 1 [17920/60000 (30%)]\tLoss: 0.907730\n",
      "Train Epoch: 1 [18560/60000 (31%)]\tLoss: 0.614129\n",
      "Train Epoch: 1 [19200/60000 (32%)]\tLoss: 1.067508\n",
      "Train Epoch: 1 [19840/60000 (33%)]\tLoss: 1.023769\n",
      "Train Epoch: 1 [20480/60000 (34%)]\tLoss: 0.974764\n",
      "Train Epoch: 1 [21120/60000 (35%)]\tLoss: 0.824919\n",
      "Train Epoch: 1 [21760/60000 (36%)]\tLoss: 0.870299\n",
      "Train Epoch: 1 [22400/60000 (37%)]\tLoss: 0.810228\n",
      "Train Epoch: 1 [23040/60000 (38%)]\tLoss: 0.726662\n",
      "Train Epoch: 1 [23680/60000 (39%)]\tLoss: 0.734780\n",
      "Train Epoch: 1 [24320/60000 (41%)]\tLoss: 0.608190\n",
      "Train Epoch: 1 [24960/60000 (42%)]\tLoss: 0.756529\n",
      "Train Epoch: 1 [25600/60000 (43%)]\tLoss: 0.999954\n",
      "Train Epoch: 1 [26240/60000 (44%)]\tLoss: 0.860090\n",
      "Train Epoch: 1 [26880/60000 (45%)]\tLoss: 0.990187\n",
      "Train Epoch: 1 [27520/60000 (46%)]\tLoss: 0.566406\n",
      "Train Epoch: 1 [28160/60000 (47%)]\tLoss: 0.693836\n",
      "Train Epoch: 1 [28800/60000 (48%)]\tLoss: 0.630369\n",
      "Train Epoch: 1 [29440/60000 (49%)]\tLoss: 0.666703\n",
      "Train Epoch: 1 [30080/60000 (50%)]\tLoss: 0.746552\n",
      "Train Epoch: 1 [30720/60000 (51%)]\tLoss: 0.706686\n",
      "Train Epoch: 1 [31360/60000 (52%)]\tLoss: 0.593076\n",
      "Train Epoch: 1 [32000/60000 (53%)]\tLoss: 0.609396\n",
      "Train Epoch: 1 [32640/60000 (54%)]\tLoss: 0.641557\n",
      "Train Epoch: 1 [33280/60000 (55%)]\tLoss: 0.639459\n",
      "Train Epoch: 1 [33920/60000 (57%)]\tLoss: 0.506979\n",
      "Train Epoch: 1 [34560/60000 (58%)]\tLoss: 0.711375\n",
      "Train Epoch: 1 [35200/60000 (59%)]\tLoss: 0.965118\n",
      "Train Epoch: 1 [35840/60000 (60%)]\tLoss: 0.558089\n",
      "Train Epoch: 1 [36480/60000 (61%)]\tLoss: 0.661538\n",
      "Train Epoch: 1 [37120/60000 (62%)]\tLoss: 0.618749\n",
      "Train Epoch: 1 [37760/60000 (63%)]\tLoss: 0.533769\n",
      "Train Epoch: 1 [38400/60000 (64%)]\tLoss: 0.670170\n",
      "Train Epoch: 1 [39040/60000 (65%)]\tLoss: 0.509692\n",
      "Train Epoch: 1 [39680/60000 (66%)]\tLoss: 0.657477\n",
      "Train Epoch: 1 [40320/60000 (67%)]\tLoss: 0.462017\n",
      "Train Epoch: 1 [40960/60000 (68%)]\tLoss: 0.522570\n",
      "Train Epoch: 1 [41600/60000 (69%)]\tLoss: 0.702873\n",
      "Train Epoch: 1 [42240/60000 (70%)]\tLoss: 0.451538\n",
      "Train Epoch: 1 [42880/60000 (71%)]\tLoss: 0.518562\n",
      "Train Epoch: 1 [43520/60000 (72%)]\tLoss: 0.769216\n",
      "Train Epoch: 1 [44160/60000 (74%)]\tLoss: 0.549687\n",
      "Train Epoch: 1 [44800/60000 (75%)]\tLoss: 0.554203\n",
      "Train Epoch: 1 [45440/60000 (76%)]\tLoss: 0.451074\n",
      "Train Epoch: 1 [46080/60000 (77%)]\tLoss: 0.624258\n",
      "Train Epoch: 1 [46720/60000 (78%)]\tLoss: 0.442018\n",
      "Train Epoch: 1 [47360/60000 (79%)]\tLoss: 0.323342\n",
      "Train Epoch: 1 [48000/60000 (80%)]\tLoss: 0.524033\n",
      "Train Epoch: 1 [48640/60000 (81%)]\tLoss: 0.599578\n",
      "Train Epoch: 1 [49280/60000 (82%)]\tLoss: 0.550233\n",
      "Train Epoch: 1 [49920/60000 (83%)]\tLoss: 0.626929\n",
      "Train Epoch: 1 [50560/60000 (84%)]\tLoss: 0.780121\n",
      "Train Epoch: 1 [51200/60000 (85%)]\tLoss: 0.673638\n",
      "Train Epoch: 1 [51840/60000 (86%)]\tLoss: 0.462593\n",
      "Train Epoch: 1 [52480/60000 (87%)]\tLoss: 0.352664\n",
      "Train Epoch: 1 [53120/60000 (88%)]\tLoss: 0.427567\n",
      "Train Epoch: 1 [53760/60000 (90%)]\tLoss: 0.552184\n",
      "Train Epoch: 1 [54400/60000 (91%)]\tLoss: 0.430580\n",
      "Train Epoch: 1 [55040/60000 (92%)]\tLoss: 0.435457\n",
      "Train Epoch: 1 [55680/60000 (93%)]\tLoss: 0.348570\n",
      "Train Epoch: 1 [56320/60000 (94%)]\tLoss: 0.459390\n",
      "Train Epoch: 1 [56960/60000 (95%)]\tLoss: 0.267962\n",
      "Train Epoch: 1 [57600/60000 (96%)]\tLoss: 0.343241\n",
      "Train Epoch: 1 [58240/60000 (97%)]\tLoss: 0.409563\n",
      "Train Epoch: 1 [58880/60000 (98%)]\tLoss: 0.438329\n",
      "Train Epoch: 1 [59520/60000 (99%)]\tLoss: 0.573542\n",
      "\n",
      "Test set: Avg. loss: 0.1995, Accuracy: 9399/10000 (94%)\n",
      "\n",
      "Train Epoch: 2 [0/60000 (0%)]\tLoss: 0.425732\n",
      "Train Epoch: 2 [640/60000 (1%)]\tLoss: 0.457198\n",
      "Train Epoch: 2 [1280/60000 (2%)]\tLoss: 0.415791\n",
      "Train Epoch: 2 [1920/60000 (3%)]\tLoss: 0.512799\n",
      "Train Epoch: 2 [2560/60000 (4%)]\tLoss: 0.334629\n",
      "Train Epoch: 2 [3200/60000 (5%)]\tLoss: 0.457232\n",
      "Train Epoch: 2 [3840/60000 (6%)]\tLoss: 0.512774\n",
      "Train Epoch: 2 [4480/60000 (7%)]\tLoss: 0.406253\n",
      "Train Epoch: 2 [5120/60000 (9%)]\tLoss: 0.416171\n",
      "Train Epoch: 2 [5760/60000 (10%)]\tLoss: 0.345217\n",
      "Train Epoch: 2 [6400/60000 (11%)]\tLoss: 0.227624\n",
      "Train Epoch: 2 [7040/60000 (12%)]\tLoss: 0.281142\n",
      "Train Epoch: 2 [7680/60000 (13%)]\tLoss: 0.487237\n",
      "Train Epoch: 2 [8320/60000 (14%)]\tLoss: 0.476002\n",
      "Train Epoch: 2 [8960/60000 (15%)]\tLoss: 0.455705\n",
      "Train Epoch: 2 [9600/60000 (16%)]\tLoss: 0.606258\n",
      "Train Epoch: 2 [10240/60000 (17%)]\tLoss: 0.438187\n",
      "Train Epoch: 2 [10880/60000 (18%)]\tLoss: 0.499575\n",
      "Train Epoch: 2 [11520/60000 (19%)]\tLoss: 0.528844\n",
      "Train Epoch: 2 [12160/60000 (20%)]\tLoss: 0.334126\n",
      "Train Epoch: 2 [12800/60000 (21%)]\tLoss: 0.407306\n",
      "Train Epoch: 2 [13440/60000 (22%)]\tLoss: 0.605322\n",
      "Train Epoch: 2 [14080/60000 (23%)]\tLoss: 0.502803\n",
      "Train Epoch: 2 [14720/60000 (25%)]\tLoss: 0.373046\n",
      "Train Epoch: 2 [15360/60000 (26%)]\tLoss: 0.521990\n",
      "Train Epoch: 2 [16000/60000 (27%)]\tLoss: 0.292670\n",
      "Train Epoch: 2 [16640/60000 (28%)]\tLoss: 0.542943\n",
      "Train Epoch: 2 [17280/60000 (29%)]\tLoss: 0.316573\n",
      "Train Epoch: 2 [17920/60000 (30%)]\tLoss: 0.430657\n",
      "Train Epoch: 2 [18560/60000 (31%)]\tLoss: 0.319720\n",
      "Train Epoch: 2 [19200/60000 (32%)]\tLoss: 0.339160\n",
      "Train Epoch: 2 [19840/60000 (33%)]\tLoss: 0.635843\n",
      "Train Epoch: 2 [20480/60000 (34%)]\tLoss: 0.216202\n",
      "Train Epoch: 2 [21120/60000 (35%)]\tLoss: 0.480385\n",
      "Train Epoch: 2 [21760/60000 (36%)]\tLoss: 0.571850\n",
      "Train Epoch: 2 [22400/60000 (37%)]\tLoss: 0.200796\n",
      "Train Epoch: 2 [23040/60000 (38%)]\tLoss: 0.200162\n",
      "Train Epoch: 2 [23680/60000 (39%)]\tLoss: 0.615985\n",
      "Train Epoch: 2 [24320/60000 (41%)]\tLoss: 0.418976\n",
      "Train Epoch: 2 [24960/60000 (42%)]\tLoss: 0.605551\n",
      "Train Epoch: 2 [25600/60000 (43%)]\tLoss: 0.267672\n",
      "Train Epoch: 2 [26240/60000 (44%)]\tLoss: 0.314151\n",
      "Train Epoch: 2 [26880/60000 (45%)]\tLoss: 0.357308\n",
      "Train Epoch: 2 [27520/60000 (46%)]\tLoss: 0.335534\n",
      "Train Epoch: 2 [28160/60000 (47%)]\tLoss: 0.398911\n",
      "Train Epoch: 2 [28800/60000 (48%)]\tLoss: 0.333714\n",
      "Train Epoch: 2 [29440/60000 (49%)]\tLoss: 0.430287\n",
      "Train Epoch: 2 [30080/60000 (50%)]\tLoss: 0.333892\n",
      "Train Epoch: 2 [30720/60000 (51%)]\tLoss: 0.364638\n",
      "Train Epoch: 2 [31360/60000 (52%)]\tLoss: 0.619420\n",
      "Train Epoch: 2 [32000/60000 (53%)]\tLoss: 0.229530\n",
      "Train Epoch: 2 [32640/60000 (54%)]\tLoss: 0.560258\n",
      "Train Epoch: 2 [33280/60000 (55%)]\tLoss: 0.308451\n",
      "Train Epoch: 2 [33920/60000 (57%)]\tLoss: 0.506447\n",
      "Train Epoch: 2 [34560/60000 (58%)]\tLoss: 0.443820\n",
      "Train Epoch: 2 [35200/60000 (59%)]\tLoss: 0.220127\n",
      "Train Epoch: 2 [35840/60000 (60%)]\tLoss: 0.447495\n",
      "Train Epoch: 2 [36480/60000 (61%)]\tLoss: 0.288371\n",
      "Train Epoch: 2 [37120/60000 (62%)]\tLoss: 0.365377\n",
      "Train Epoch: 2 [37760/60000 (63%)]\tLoss: 0.435001\n",
      "Train Epoch: 2 [38400/60000 (64%)]\tLoss: 0.330458\n",
      "Train Epoch: 2 [39040/60000 (65%)]\tLoss: 0.167776\n",
      "Train Epoch: 2 [39680/60000 (66%)]\tLoss: 0.317739\n",
      "Train Epoch: 2 [40320/60000 (67%)]\tLoss: 0.315401\n",
      "Train Epoch: 2 [40960/60000 (68%)]\tLoss: 0.407411\n",
      "Train Epoch: 2 [41600/60000 (69%)]\tLoss: 0.316336\n",
      "Train Epoch: 2 [42240/60000 (70%)]\tLoss: 0.333950\n",
      "Train Epoch: 2 [42880/60000 (71%)]\tLoss: 0.292444\n",
      "Train Epoch: 2 [43520/60000 (72%)]\tLoss: 0.231456\n",
      "Train Epoch: 2 [44160/60000 (74%)]\tLoss: 0.397880\n",
      "Train Epoch: 2 [44800/60000 (75%)]\tLoss: 0.400553\n",
      "Train Epoch: 2 [45440/60000 (76%)]\tLoss: 0.456288\n",
      "Train Epoch: 2 [46080/60000 (77%)]\tLoss: 0.341562\n",
      "Train Epoch: 2 [46720/60000 (78%)]\tLoss: 0.491811\n",
      "Train Epoch: 2 [47360/60000 (79%)]\tLoss: 0.192423\n",
      "Train Epoch: 2 [48000/60000 (80%)]\tLoss: 0.276394\n",
      "Train Epoch: 2 [48640/60000 (81%)]\tLoss: 0.506959\n",
      "Train Epoch: 2 [49280/60000 (82%)]\tLoss: 0.249561\n",
      "Train Epoch: 2 [49920/60000 (83%)]\tLoss: 0.264961\n",
      "Train Epoch: 2 [50560/60000 (84%)]\tLoss: 0.324645\n",
      "Train Epoch: 2 [51200/60000 (85%)]\tLoss: 0.530943\n",
      "Train Epoch: 2 [51840/60000 (86%)]\tLoss: 0.317989\n",
      "Train Epoch: 2 [52480/60000 (87%)]\tLoss: 0.224287\n",
      "Train Epoch: 2 [53120/60000 (88%)]\tLoss: 0.276573\n",
      "Train Epoch: 2 [53760/60000 (90%)]\tLoss: 0.364313\n",
      "Train Epoch: 2 [54400/60000 (91%)]\tLoss: 0.373759\n",
      "Train Epoch: 2 [55040/60000 (92%)]\tLoss: 0.305997\n",
      "Train Epoch: 2 [55680/60000 (93%)]\tLoss: 0.386473\n",
      "Train Epoch: 2 [56320/60000 (94%)]\tLoss: 0.360651\n",
      "Train Epoch: 2 [56960/60000 (95%)]\tLoss: 0.321396\n",
      "Train Epoch: 2 [57600/60000 (96%)]\tLoss: 0.443808\n",
      "Train Epoch: 2 [58240/60000 (97%)]\tLoss: 0.352768\n",
      "Train Epoch: 2 [58880/60000 (98%)]\tLoss: 0.346238\n",
      "Train Epoch: 2 [59520/60000 (99%)]\tLoss: 0.400869\n",
      "\n",
      "Test set: Avg. loss: 0.1271, Accuracy: 9605/10000 (96%)\n",
      "\n",
      "Train Epoch: 3 [0/60000 (0%)]\tLoss: 0.196286\n",
      "Train Epoch: 3 [640/60000 (1%)]\tLoss: 0.434977\n",
      "Train Epoch: 3 [1280/60000 (2%)]\tLoss: 0.168793\n",
      "Train Epoch: 3 [1920/60000 (3%)]\tLoss: 0.200793\n",
      "Train Epoch: 3 [2560/60000 (4%)]\tLoss: 0.318549\n",
      "Train Epoch: 3 [3200/60000 (5%)]\tLoss: 0.257128\n",
      "Train Epoch: 3 [3840/60000 (6%)]\tLoss: 0.402541\n",
      "Train Epoch: 3 [4480/60000 (7%)]\tLoss: 0.328156\n",
      "Train Epoch: 3 [5120/60000 (9%)]\tLoss: 0.195721\n",
      "Train Epoch: 3 [5760/60000 (10%)]\tLoss: 0.325325\n",
      "Train Epoch: 3 [6400/60000 (11%)]\tLoss: 0.462840\n",
      "Train Epoch: 3 [7040/60000 (12%)]\tLoss: 0.179163\n",
      "Train Epoch: 3 [7680/60000 (13%)]\tLoss: 0.274618\n",
      "Train Epoch: 3 [8320/60000 (14%)]\tLoss: 0.210925\n",
      "Train Epoch: 3 [8960/60000 (15%)]\tLoss: 0.310589\n",
      "Train Epoch: 3 [9600/60000 (16%)]\tLoss: 0.307878\n",
      "Train Epoch: 3 [10240/60000 (17%)]\tLoss: 0.248523\n",
      "Train Epoch: 3 [10880/60000 (18%)]\tLoss: 0.248797\n",
      "Train Epoch: 3 [11520/60000 (19%)]\tLoss: 0.193882\n",
      "Train Epoch: 3 [12160/60000 (20%)]\tLoss: 0.157464\n",
      "Train Epoch: 3 [12800/60000 (21%)]\tLoss: 0.247125\n",
      "Train Epoch: 3 [13440/60000 (22%)]\tLoss: 0.516964\n",
      "Train Epoch: 3 [14080/60000 (23%)]\tLoss: 0.434418\n",
      "Train Epoch: 3 [14720/60000 (25%)]\tLoss: 0.367630\n",
      "Train Epoch: 3 [15360/60000 (26%)]\tLoss: 0.202018\n",
      "Train Epoch: 3 [16000/60000 (27%)]\tLoss: 0.572078\n",
      "Train Epoch: 3 [16640/60000 (28%)]\tLoss: 0.262449\n",
      "Train Epoch: 3 [17280/60000 (29%)]\tLoss: 0.365729\n",
      "Train Epoch: 3 [17920/60000 (30%)]\tLoss: 0.201844\n",
      "Train Epoch: 3 [18560/60000 (31%)]\tLoss: 0.403593\n",
      "Train Epoch: 3 [19200/60000 (32%)]\tLoss: 0.188865\n",
      "Train Epoch: 3 [19840/60000 (33%)]\tLoss: 0.365999\n",
      "Train Epoch: 3 [20480/60000 (34%)]\tLoss: 0.642677\n",
      "Train Epoch: 3 [21120/60000 (35%)]\tLoss: 0.165328\n",
      "Train Epoch: 3 [21760/60000 (36%)]\tLoss: 0.168904\n",
      "Train Epoch: 3 [22400/60000 (37%)]\tLoss: 0.486532\n",
      "Train Epoch: 3 [23040/60000 (38%)]\tLoss: 0.268597\n",
      "Train Epoch: 3 [23680/60000 (39%)]\tLoss: 0.263940\n",
      "Train Epoch: 3 [24320/60000 (41%)]\tLoss: 0.305039\n",
      "Train Epoch: 3 [24960/60000 (42%)]\tLoss: 0.368810\n",
      "Train Epoch: 3 [25600/60000 (43%)]\tLoss: 0.226153\n",
      "Train Epoch: 3 [26240/60000 (44%)]\tLoss: 0.217132\n",
      "Train Epoch: 3 [26880/60000 (45%)]\tLoss: 0.149515\n",
      "Train Epoch: 3 [27520/60000 (46%)]\tLoss: 0.311957\n",
      "Train Epoch: 3 [28160/60000 (47%)]\tLoss: 0.361267\n",
      "Train Epoch: 3 [28800/60000 (48%)]\tLoss: 0.238511\n",
      "Train Epoch: 3 [29440/60000 (49%)]\tLoss: 0.348000\n",
      "Train Epoch: 3 [30080/60000 (50%)]\tLoss: 0.437010\n",
      "Train Epoch: 3 [30720/60000 (51%)]\tLoss: 0.368810\n",
      "Train Epoch: 3 [31360/60000 (52%)]\tLoss: 0.262665\n",
      "Train Epoch: 3 [32000/60000 (53%)]\tLoss: 0.327560\n",
      "Train Epoch: 3 [32640/60000 (54%)]\tLoss: 0.443148\n",
      "Train Epoch: 3 [33280/60000 (55%)]\tLoss: 0.297402\n",
      "Train Epoch: 3 [33920/60000 (57%)]\tLoss: 0.269397\n",
      "Train Epoch: 3 [34560/60000 (58%)]\tLoss: 0.365460\n",
      "Train Epoch: 3 [35200/60000 (59%)]\tLoss: 0.338010\n",
      "Train Epoch: 3 [35840/60000 (60%)]\tLoss: 0.337275\n",
      "Train Epoch: 3 [36480/60000 (61%)]\tLoss: 0.393922\n",
      "Train Epoch: 3 [37120/60000 (62%)]\tLoss: 0.321974\n",
      "Train Epoch: 3 [37760/60000 (63%)]\tLoss: 0.428264\n",
      "Train Epoch: 3 [38400/60000 (64%)]\tLoss: 0.221477\n",
      "Train Epoch: 3 [39040/60000 (65%)]\tLoss: 0.304473\n",
      "Train Epoch: 3 [39680/60000 (66%)]\tLoss: 0.246232\n",
      "Train Epoch: 3 [40320/60000 (67%)]\tLoss: 0.264684\n",
      "Train Epoch: 3 [40960/60000 (68%)]\tLoss: 0.254222\n",
      "Train Epoch: 3 [41600/60000 (69%)]\tLoss: 0.183213\n",
      "Train Epoch: 3 [42240/60000 (70%)]\tLoss: 0.211334\n",
      "Train Epoch: 3 [42880/60000 (71%)]\tLoss: 0.299429\n",
      "Train Epoch: 3 [43520/60000 (72%)]\tLoss: 0.556243\n",
      "Train Epoch: 3 [44160/60000 (74%)]\tLoss: 0.195069\n",
      "Train Epoch: 3 [44800/60000 (75%)]\tLoss: 0.428460\n",
      "Train Epoch: 3 [45440/60000 (76%)]\tLoss: 0.240210\n",
      "Train Epoch: 3 [46080/60000 (77%)]\tLoss: 0.480105\n",
      "Train Epoch: 3 [46720/60000 (78%)]\tLoss: 0.426204\n",
      "Train Epoch: 3 [47360/60000 (79%)]\tLoss: 0.265729\n",
      "Train Epoch: 3 [48000/60000 (80%)]\tLoss: 0.158903\n",
      "Train Epoch: 3 [48640/60000 (81%)]\tLoss: 0.343066\n",
      "Train Epoch: 3 [49280/60000 (82%)]\tLoss: 0.082313\n",
      "Train Epoch: 3 [49920/60000 (83%)]\tLoss: 0.299432\n",
      "Train Epoch: 3 [50560/60000 (84%)]\tLoss: 0.252237\n",
      "Train Epoch: 3 [51200/60000 (85%)]\tLoss: 0.221063\n",
      "Train Epoch: 3 [51840/60000 (86%)]\tLoss: 0.241072\n",
      "Train Epoch: 3 [52480/60000 (87%)]\tLoss: 0.380484\n",
      "Train Epoch: 3 [53120/60000 (88%)]\tLoss: 0.149220\n",
      "Train Epoch: 3 [53760/60000 (90%)]\tLoss: 0.436523\n",
      "Train Epoch: 3 [54400/60000 (91%)]\tLoss: 0.193107\n",
      "Train Epoch: 3 [55040/60000 (92%)]\tLoss: 0.281606\n",
      "Train Epoch: 3 [55680/60000 (93%)]\tLoss: 0.307797\n",
      "Train Epoch: 3 [56320/60000 (94%)]\tLoss: 0.276929\n",
      "Train Epoch: 3 [56960/60000 (95%)]\tLoss: 0.182088\n",
      "Train Epoch: 3 [57600/60000 (96%)]\tLoss: 0.230973\n",
      "Train Epoch: 3 [58240/60000 (97%)]\tLoss: 0.187768\n",
      "Train Epoch: 3 [58880/60000 (98%)]\tLoss: 0.217331\n",
      "Train Epoch: 3 [59520/60000 (99%)]\tLoss: 0.160302\n",
      "\n",
      "Test set: Avg. loss: 0.0971, Accuracy: 9699/10000 (97%)\n",
      "\n"
     ]
    }
   ],
   "source": [
    "test()\n",
    "for epoch in range(1, n_epochs + 1):\n",
    "    train(epoch)\n",
    "    test()"
   ]
  },
  {
   "cell_type": "code",
   "execution_count": 21,
   "metadata": {},
   "outputs": [
    {
     "ename": "ValueError",
     "evalue": "x and y must be the same size",
     "output_type": "error",
     "traceback": [
      "\u001b[0;31m---------------------------------------------------------------------------\u001b[0m",
      "\u001b[0;31mValueError\u001b[0m                                Traceback (most recent call last)",
      "\u001b[0;32m<ipython-input-21-2ddd02f2bec4>\u001b[0m in \u001b[0;36m<module>\u001b[0;34m\u001b[0m\n\u001b[1;32m      1\u001b[0m \u001b[0mfig\u001b[0m \u001b[0;34m=\u001b[0m \u001b[0mplt\u001b[0m\u001b[0;34m.\u001b[0m\u001b[0mfigure\u001b[0m\u001b[0;34m(\u001b[0m\u001b[0;34m)\u001b[0m\u001b[0;34m\u001b[0m\u001b[0;34m\u001b[0m\u001b[0m\n\u001b[1;32m      2\u001b[0m \u001b[0mplt\u001b[0m\u001b[0;34m.\u001b[0m\u001b[0mplot\u001b[0m\u001b[0;34m(\u001b[0m\u001b[0mtrain_counter\u001b[0m\u001b[0;34m,\u001b[0m \u001b[0mtrain_losses\u001b[0m\u001b[0;34m,\u001b[0m \u001b[0mcolor\u001b[0m\u001b[0;34m=\u001b[0m\u001b[0;34m'blue'\u001b[0m\u001b[0;34m)\u001b[0m\u001b[0;34m\u001b[0m\u001b[0;34m\u001b[0m\u001b[0m\n\u001b[0;32m----> 3\u001b[0;31m \u001b[0mplt\u001b[0m\u001b[0;34m.\u001b[0m\u001b[0mscatter\u001b[0m\u001b[0;34m(\u001b[0m\u001b[0mtest_counter\u001b[0m\u001b[0;34m,\u001b[0m \u001b[0mtest_losses\u001b[0m\u001b[0;34m,\u001b[0m \u001b[0mcolor\u001b[0m\u001b[0;34m=\u001b[0m\u001b[0;34m'red'\u001b[0m\u001b[0;34m)\u001b[0m\u001b[0;34m\u001b[0m\u001b[0;34m\u001b[0m\u001b[0m\n\u001b[0m\u001b[1;32m      4\u001b[0m \u001b[0mplt\u001b[0m\u001b[0;34m.\u001b[0m\u001b[0mlegend\u001b[0m\u001b[0;34m(\u001b[0m\u001b[0;34m[\u001b[0m\u001b[0;34m'Train Loss'\u001b[0m\u001b[0;34m,\u001b[0m \u001b[0;34m'Test Loss'\u001b[0m\u001b[0;34m]\u001b[0m\u001b[0;34m,\u001b[0m \u001b[0mloc\u001b[0m\u001b[0;34m=\u001b[0m\u001b[0;34m'upper right'\u001b[0m\u001b[0;34m)\u001b[0m\u001b[0;34m\u001b[0m\u001b[0;34m\u001b[0m\u001b[0m\n\u001b[1;32m      5\u001b[0m \u001b[0mplt\u001b[0m\u001b[0;34m.\u001b[0m\u001b[0mxlabel\u001b[0m\u001b[0;34m(\u001b[0m\u001b[0;34m'number of training examples seen'\u001b[0m\u001b[0;34m)\u001b[0m\u001b[0;34m\u001b[0m\u001b[0;34m\u001b[0m\u001b[0m\n",
      "\u001b[0;32m~/opt/anaconda3/envs/biof510/lib/python3.9/site-packages/matplotlib/pyplot.py\u001b[0m in \u001b[0;36mscatter\u001b[0;34m(x, y, s, c, marker, cmap, norm, vmin, vmax, alpha, linewidths, verts, edgecolors, plotnonfinite, data, **kwargs)\u001b[0m\n\u001b[1;32m   2888\u001b[0m         \u001b[0mverts\u001b[0m\u001b[0;34m=\u001b[0m\u001b[0mcbook\u001b[0m\u001b[0;34m.\u001b[0m\u001b[0mdeprecation\u001b[0m\u001b[0;34m.\u001b[0m\u001b[0m_deprecated_parameter\u001b[0m\u001b[0;34m,\u001b[0m\u001b[0;34m\u001b[0m\u001b[0;34m\u001b[0m\u001b[0m\n\u001b[1;32m   2889\u001b[0m         edgecolors=None, *, plotnonfinite=False, data=None, **kwargs):\n\u001b[0;32m-> 2890\u001b[0;31m     __ret = gca().scatter(\n\u001b[0m\u001b[1;32m   2891\u001b[0m         \u001b[0mx\u001b[0m\u001b[0;34m,\u001b[0m \u001b[0my\u001b[0m\u001b[0;34m,\u001b[0m \u001b[0ms\u001b[0m\u001b[0;34m=\u001b[0m\u001b[0ms\u001b[0m\u001b[0;34m,\u001b[0m \u001b[0mc\u001b[0m\u001b[0;34m=\u001b[0m\u001b[0mc\u001b[0m\u001b[0;34m,\u001b[0m \u001b[0mmarker\u001b[0m\u001b[0;34m=\u001b[0m\u001b[0mmarker\u001b[0m\u001b[0;34m,\u001b[0m \u001b[0mcmap\u001b[0m\u001b[0;34m=\u001b[0m\u001b[0mcmap\u001b[0m\u001b[0;34m,\u001b[0m \u001b[0mnorm\u001b[0m\u001b[0;34m=\u001b[0m\u001b[0mnorm\u001b[0m\u001b[0;34m,\u001b[0m\u001b[0;34m\u001b[0m\u001b[0;34m\u001b[0m\u001b[0m\n\u001b[1;32m   2892\u001b[0m         \u001b[0mvmin\u001b[0m\u001b[0;34m=\u001b[0m\u001b[0mvmin\u001b[0m\u001b[0;34m,\u001b[0m \u001b[0mvmax\u001b[0m\u001b[0;34m=\u001b[0m\u001b[0mvmax\u001b[0m\u001b[0;34m,\u001b[0m \u001b[0malpha\u001b[0m\u001b[0;34m=\u001b[0m\u001b[0malpha\u001b[0m\u001b[0;34m,\u001b[0m \u001b[0mlinewidths\u001b[0m\u001b[0;34m=\u001b[0m\u001b[0mlinewidths\u001b[0m\u001b[0;34m,\u001b[0m\u001b[0;34m\u001b[0m\u001b[0;34m\u001b[0m\u001b[0m\n",
      "\u001b[0;32m~/opt/anaconda3/envs/biof510/lib/python3.9/site-packages/matplotlib/__init__.py\u001b[0m in \u001b[0;36minner\u001b[0;34m(ax, data, *args, **kwargs)\u001b[0m\n\u001b[1;32m   1445\u001b[0m     \u001b[0;32mdef\u001b[0m \u001b[0minner\u001b[0m\u001b[0;34m(\u001b[0m\u001b[0max\u001b[0m\u001b[0;34m,\u001b[0m \u001b[0;34m*\u001b[0m\u001b[0margs\u001b[0m\u001b[0;34m,\u001b[0m \u001b[0mdata\u001b[0m\u001b[0;34m=\u001b[0m\u001b[0;32mNone\u001b[0m\u001b[0;34m,\u001b[0m \u001b[0;34m**\u001b[0m\u001b[0mkwargs\u001b[0m\u001b[0;34m)\u001b[0m\u001b[0;34m:\u001b[0m\u001b[0;34m\u001b[0m\u001b[0;34m\u001b[0m\u001b[0m\n\u001b[1;32m   1446\u001b[0m         \u001b[0;32mif\u001b[0m \u001b[0mdata\u001b[0m \u001b[0;32mis\u001b[0m \u001b[0;32mNone\u001b[0m\u001b[0;34m:\u001b[0m\u001b[0;34m\u001b[0m\u001b[0;34m\u001b[0m\u001b[0m\n\u001b[0;32m-> 1447\u001b[0;31m             \u001b[0;32mreturn\u001b[0m \u001b[0mfunc\u001b[0m\u001b[0;34m(\u001b[0m\u001b[0max\u001b[0m\u001b[0;34m,\u001b[0m \u001b[0;34m*\u001b[0m\u001b[0mmap\u001b[0m\u001b[0;34m(\u001b[0m\u001b[0msanitize_sequence\u001b[0m\u001b[0;34m,\u001b[0m \u001b[0margs\u001b[0m\u001b[0;34m)\u001b[0m\u001b[0;34m,\u001b[0m \u001b[0;34m**\u001b[0m\u001b[0mkwargs\u001b[0m\u001b[0;34m)\u001b[0m\u001b[0;34m\u001b[0m\u001b[0;34m\u001b[0m\u001b[0m\n\u001b[0m\u001b[1;32m   1448\u001b[0m \u001b[0;34m\u001b[0m\u001b[0m\n\u001b[1;32m   1449\u001b[0m         \u001b[0mbound\u001b[0m \u001b[0;34m=\u001b[0m \u001b[0mnew_sig\u001b[0m\u001b[0;34m.\u001b[0m\u001b[0mbind\u001b[0m\u001b[0;34m(\u001b[0m\u001b[0max\u001b[0m\u001b[0;34m,\u001b[0m \u001b[0;34m*\u001b[0m\u001b[0margs\u001b[0m\u001b[0;34m,\u001b[0m \u001b[0;34m**\u001b[0m\u001b[0mkwargs\u001b[0m\u001b[0;34m)\u001b[0m\u001b[0;34m\u001b[0m\u001b[0;34m\u001b[0m\u001b[0m\n",
      "\u001b[0;32m~/opt/anaconda3/envs/biof510/lib/python3.9/site-packages/matplotlib/cbook/deprecation.py\u001b[0m in \u001b[0;36mwrapper\u001b[0;34m(*inner_args, **inner_kwargs)\u001b[0m\n\u001b[1;32m    409\u001b[0m                          \u001b[0;32melse\u001b[0m \u001b[0mdeprecation_addendum\u001b[0m\u001b[0;34m,\u001b[0m\u001b[0;34m\u001b[0m\u001b[0;34m\u001b[0m\u001b[0m\n\u001b[1;32m    410\u001b[0m                 **kwargs)\n\u001b[0;32m--> 411\u001b[0;31m         \u001b[0;32mreturn\u001b[0m \u001b[0mfunc\u001b[0m\u001b[0;34m(\u001b[0m\u001b[0;34m*\u001b[0m\u001b[0minner_args\u001b[0m\u001b[0;34m,\u001b[0m \u001b[0;34m**\u001b[0m\u001b[0minner_kwargs\u001b[0m\u001b[0;34m)\u001b[0m\u001b[0;34m\u001b[0m\u001b[0;34m\u001b[0m\u001b[0m\n\u001b[0m\u001b[1;32m    412\u001b[0m \u001b[0;34m\u001b[0m\u001b[0m\n\u001b[1;32m    413\u001b[0m     \u001b[0;32mreturn\u001b[0m \u001b[0mwrapper\u001b[0m\u001b[0;34m\u001b[0m\u001b[0;34m\u001b[0m\u001b[0m\n",
      "\u001b[0;32m~/opt/anaconda3/envs/biof510/lib/python3.9/site-packages/matplotlib/axes/_axes.py\u001b[0m in \u001b[0;36mscatter\u001b[0;34m(self, x, y, s, c, marker, cmap, norm, vmin, vmax, alpha, linewidths, verts, edgecolors, plotnonfinite, **kwargs)\u001b[0m\n\u001b[1;32m   4439\u001b[0m         \u001b[0my\u001b[0m \u001b[0;34m=\u001b[0m \u001b[0mnp\u001b[0m\u001b[0;34m.\u001b[0m\u001b[0mma\u001b[0m\u001b[0;34m.\u001b[0m\u001b[0mravel\u001b[0m\u001b[0;34m(\u001b[0m\u001b[0my\u001b[0m\u001b[0;34m)\u001b[0m\u001b[0;34m\u001b[0m\u001b[0;34m\u001b[0m\u001b[0m\n\u001b[1;32m   4440\u001b[0m         \u001b[0;32mif\u001b[0m \u001b[0mx\u001b[0m\u001b[0;34m.\u001b[0m\u001b[0msize\u001b[0m \u001b[0;34m!=\u001b[0m \u001b[0my\u001b[0m\u001b[0;34m.\u001b[0m\u001b[0msize\u001b[0m\u001b[0;34m:\u001b[0m\u001b[0;34m\u001b[0m\u001b[0;34m\u001b[0m\u001b[0m\n\u001b[0;32m-> 4441\u001b[0;31m             \u001b[0;32mraise\u001b[0m \u001b[0mValueError\u001b[0m\u001b[0;34m(\u001b[0m\u001b[0;34m\"x and y must be the same size\"\u001b[0m\u001b[0;34m)\u001b[0m\u001b[0;34m\u001b[0m\u001b[0;34m\u001b[0m\u001b[0m\n\u001b[0m\u001b[1;32m   4442\u001b[0m \u001b[0;34m\u001b[0m\u001b[0m\n\u001b[1;32m   4443\u001b[0m         \u001b[0;32mif\u001b[0m \u001b[0ms\u001b[0m \u001b[0;32mis\u001b[0m \u001b[0;32mNone\u001b[0m\u001b[0;34m:\u001b[0m\u001b[0;34m\u001b[0m\u001b[0;34m\u001b[0m\u001b[0m\n",
      "\u001b[0;31mValueError\u001b[0m: x and y must be the same size"
     ]
    },
    {
     "data": {
      "image/png": "[encoded data removed]",
      "text/plain": [
       "<Figure size 432x288 with 1 Axes>"
      ]
     },
     "metadata": {
      "needs_background": "light"
     },
     "output_type": "display_data"
    }
   ],
   "source": [
    "fig = plt.figure()\n",
    "plt.plot(train_counter, train_losses, color='blue')\n",
    "plt.scatter(test_counter, test_losses, color='red')\n",
    "plt.legend(['Train Loss', 'Test Loss'], loc='upper right')\n",
    "plt.xlabel('number of training examples seen')\n",
    "plt.ylabel('negative log likelihood loss')\n",
    "fig"
   ]
  },
  {
   "cell_type": "code",
   "execution_count": 22,
   "metadata": {},
   "outputs": [
    {
     "name": "stderr",
     "output_type": "stream",
     "text": [
      "<ipython-input-7-6c2218f37724>:17: UserWarning: Implicit dimension choice for log_softmax has been deprecated. Change the call to include dim=X as an argument.\n",
      "  return F.log_softmax(x)\n"
     ]
    }
   ],
   "source": [
    "with torch.no_grad():\n",
    "    output = network(example_data)"
   ]
  },
  {
   "cell_type": "code",
   "execution_count": 23,
   "metadata": {},
   "outputs": [
    {
     "data": {
      "image/png": "[encoded data removed]",
      "text/plain": [
       "<Figure size 432x288 with 6 Axes>"
      ]
     },
     "execution_count": 23,
     "metadata": {},
     "output_type": "execute_result"
    },
    {
     "data": {
      "image/png": "[encoded data removed]",
      "text/plain": [
       "<Figure size 432x288 with 6 Axes>"
      ]
     },
     "metadata": {},
     "output_type": "display_data"
    }
   ],
   "source": [
    "fig = plt.figure()\n",
    "for i in range(6):\n",
    "    plt.subplot(2,3,i+1)\n",
    "    plt.tight_layout()\n",
    "    plt.imshow(example_data[i][0], cmap='gray', interpolation='none')\n",
    "    plt.title(\"Prediction: {}\".format(\n",
    "    output.data.max(1, keepdim=True)[1][i].item()))\n",
    "    plt.xticks([])\n",
    "    plt.yticks([])\n",
    "fig"
   ]
  },
  {
   "cell_type": "code",
   "execution_count": null,
   "metadata": {},
   "outputs": [],
   "source": []
  }
 ],
 "metadata": {
  "kernelspec": {
   "display_name": "Python (biof510)",
   "language": "python",
   "name": "biof510"
  },
  "language_info": {
   "codemirror_mode": {
    "name": "ipython",
    "version": 3
   },
   "file_extension": ".py",
   "mimetype": "text/x-python",
   "name": "python",
   "nbconvert_exporter": "python",
   "pygments_lexer": "ipython3",
   "version": "3.9.2"
  }
 },
 "nbformat": 4,
 "nbformat_minor": 4
}
